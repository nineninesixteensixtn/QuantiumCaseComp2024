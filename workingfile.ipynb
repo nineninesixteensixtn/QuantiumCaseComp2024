{
 "cells": [
  {
   "cell_type": "markdown",
   "metadata": {},
   "source": [
    "# Importing Data"
   ]
  },
  {
   "cell_type": "code",
   "execution_count": 81,
   "metadata": {},
   "outputs": [],
   "source": [
    "import pandas as pd\n",
    "import numpy as np\n",
    "import seaborn as sns"
   ]
  },
  {
   "cell_type": "code",
   "execution_count": 23,
   "metadata": {},
   "outputs": [],
   "source": [
    "data = r'D:\\other studies\\Quantium Case Comp 2024\\QuantiumCaseComp2024\\Risky Lending Data Set - revised.xlsx'\n",
    "\n",
    "customers = pd.read_excel(data, sheet_name=\"Customers\",header=5, usecols=range(1,8))\n",
    "applications = pd.read_excel(data, sheet_name=\"Applications\",header=5, usecols=range(1,10))\n",
    "campaigns = pd.read_excel(data, sheet_name=\"Campaigns\",header=5, usecols=range(1,8))\n",
    "clawbacks= pd.read_excel(data, sheet_name=\"Clawbacks\",header=5, usecols=range(1,5))\n",
    "\n",
    "# DATES ARE YEAR-MONTH-DAY"
   ]
  },
  {
   "cell_type": "markdown",
   "metadata": {},
   "source": [
    "# Descriptive analysis\n",
    "## Revenue measurement\n",
    "Measure revenue by getting summing loan amounts from applications sheet that do not have a clawback within 12 months (keep track of the account ID).\n",
    "- Track clawbacks, check which ones closed the account within 1 year (difference between open date and close date should be less than 1 year or 365/366 days depending on leap or non-leap year).\n",
    "- Remove the corresponding rows from the applications column by matching Account IDs.\n",
    "- Sum the remaining loan values and multiply by 4% to get revenue for risky lending. Can do this by year also for comparison of revenue over the 3 years.\n",
    "- Calculate potential revenue lost due to the clawbacks (track the Account IDs we removed) and multiply 4% by the corresponding loan amounts to get the amount that was lost.\n",
    "\n",
    "### Measuring total revenue from applications\n",
    "First calculating 4% of loan value for each application then summing to find total revenue"
   ]
  },
  {
   "cell_type": "code",
   "execution_count": 83,
   "metadata": {},
   "outputs": [
    {
     "data": {
      "text/plain": [
       "<Axes: ylabel='Loan Amount'>"
      ]
     },
     "execution_count": 83,
     "metadata": {},
     "output_type": "execute_result"
    },
    {
     "data": {
      "image/png": "[encoded data removed]",
      "text/plain": [
       "<Figure size 640x480 with 1 Axes>"
      ]
     },
     "metadata": {},
     "output_type": "display_data"
    }
   ],
   "source": [
    "#checking for outliers and possible errors\n",
    "sns.boxplot(data = applications['Loan Amount'])"
   ]
  },
  {
   "cell_type": "code",
   "execution_count": 84,
   "metadata": {},
   "outputs": [
    {
     "data": {
      "text/plain": [
       "<Axes: xlabel='Loan Amount', ylabel='Count'>"
      ]
     },
     "execution_count": 84,
     "metadata": {},
     "output_type": "execute_result"
    },
    {
     "data": {
      "image/png": "[encoded data removed]",
      "text/plain": [
       "<Figure size 640x480 with 1 Axes>"
      ]
     },
     "metadata": {},
     "output_type": "display_data"
    }
   ],
   "source": [
    "sns.histplot(data = applications['Loan Amount'])"
   ]
  },
  {
   "cell_type": "code",
   "execution_count": 107,
   "metadata": {},
   "outputs": [
    {
     "name": "stdout",
     "output_type": "stream",
     "text": [
      "Total revenue from applications: $ 91076973.44\n"
     ]
    }
   ],
   "source": [
    "total_revenue_from_applications = round(applications['Loan Amount'].sum()*0.04,2)\n",
    "print('Total revenue from applications: $', total_revenue_from_applications)"
   ]
  },
  {
   "cell_type": "code",
   "execution_count": 118,
   "metadata": {},
   "outputs": [
    {
     "name": "stdout",
     "output_type": "stream",
     "text": [
      "Application commission in year 2020  was $ 15026363.18\n",
      "Application commission in year 2021  was $ 50552646.12\n",
      "Application commission in year 2022  was $ 25497964.14\n",
      "in total: $ 91076973.44\n"
     ]
    }
   ],
   "source": [
    "#calculating revenue by year\n",
    "yearly_revenue = {}\n",
    "for year in [2020,2021,2022]:\n",
    "    yearly_applications = applications[(applications['Application Date']<=pd.to_datetime(f'{year}/12/31'))*(applications['Application Date']>pd.to_datetime(f'{year-1}/12/31'))]\n",
    "    yearly_revenue[year] = round(sum(yearly_applications['Loan Amount']*0.04),2)\n",
    "    print('Application commission in year',year,' was $',yearly_revenue[year])\n",
    "print('in total: $', sum(list(yearly_revenue.values())))"
   ]
  },
  {
   "cell_type": "markdown",
   "metadata": {},
   "source": [
    "### Measuring loss from clawbacks\n",
    "getting applications clawbacked, i.e closed within 1 year"
   ]
  },
  {
   "cell_type": "code",
   "execution_count": 59,
   "metadata": {},
   "outputs": [
    {
     "name": "stdout",
     "output_type": "stream",
     "text": [
      "<class 'pandas.core.frame.DataFrame'>\n",
      "RangeIndex: 376 entries, 0 to 375\n",
      "Data columns (total 4 columns):\n",
      " #   Column              Non-Null Count  Dtype         \n",
      "---  ------              --------------  -----         \n",
      " 0   Account ID          376 non-null    int64         \n",
      " 1   Account Open Date   376 non-null    datetime64[ns]\n",
      " 2   Account Close Date  376 non-null    datetime64[ns]\n",
      " 3   Close Reason        376 non-null    object        \n",
      "dtypes: datetime64[ns](2), int64(1), object(1)\n",
      "memory usage: 11.9+ KB\n"
     ]
    }
   ],
   "source": [
    "clawbacks.info()"
   ]
  },
  {
   "cell_type": "code",
   "execution_count": 61,
   "metadata": {},
   "outputs": [
    {
     "data": {
      "text/html": [
       "<div>\n",
       "<style scoped>\n",
       "    .dataframe tbody tr th:only-of-type {\n",
       "        vertical-align: middle;\n",
       "    }\n",
       "\n",
       "    .dataframe tbody tr th {\n",
       "        vertical-align: top;\n",
       "    }\n",
       "\n",
       "    .dataframe thead th {\n",
       "        text-align: right;\n",
       "    }\n",
       "</style>\n",
       "<table border=\"1\" class=\"dataframe\">\n",
       "  <thead>\n",
       "    <tr style=\"text-align: right;\">\n",
       "      <th></th>\n",
       "      <th>Account ID</th>\n",
       "      <th>Account Open Date</th>\n",
       "      <th>Account Close Date</th>\n",
       "      <th>Close Reason</th>\n",
       "    </tr>\n",
       "  </thead>\n",
       "  <tbody>\n",
       "    <tr>\n",
       "      <th>0</th>\n",
       "      <td>10040</td>\n",
       "      <td>2020-07-09</td>\n",
       "      <td>2021-01-29</td>\n",
       "      <td>REFINANCE</td>\n",
       "    </tr>\n",
       "    <tr>\n",
       "      <th>1</th>\n",
       "      <td>10230</td>\n",
       "      <td>2020-09-20</td>\n",
       "      <td>2020-12-10</td>\n",
       "      <td>REFINANCE</td>\n",
       "    </tr>\n",
       "    <tr>\n",
       "      <th>2</th>\n",
       "      <td>10393</td>\n",
       "      <td>2020-12-10</td>\n",
       "      <td>2021-04-16</td>\n",
       "      <td>DEFAULT</td>\n",
       "    </tr>\n",
       "    <tr>\n",
       "      <th>3</th>\n",
       "      <td>10331</td>\n",
       "      <td>2020-11-16</td>\n",
       "      <td>2021-05-20</td>\n",
       "      <td>REFINANCE</td>\n",
       "    </tr>\n",
       "    <tr>\n",
       "      <th>4</th>\n",
       "      <td>10326</td>\n",
       "      <td>2020-11-07</td>\n",
       "      <td>2021-03-15</td>\n",
       "      <td>DEFAULT</td>\n",
       "    </tr>\n",
       "    <tr>\n",
       "      <th>...</th>\n",
       "      <td>...</td>\n",
       "      <td>...</td>\n",
       "      <td>...</td>\n",
       "      <td>...</td>\n",
       "    </tr>\n",
       "    <tr>\n",
       "      <th>371</th>\n",
       "      <td>11923</td>\n",
       "      <td>2022-01-08</td>\n",
       "      <td>2022-04-30</td>\n",
       "      <td>REFINANCE</td>\n",
       "    </tr>\n",
       "    <tr>\n",
       "      <th>372</th>\n",
       "      <td>11961</td>\n",
       "      <td>2022-01-18</td>\n",
       "      <td>2022-04-20</td>\n",
       "      <td>REFINANCE</td>\n",
       "    </tr>\n",
       "    <tr>\n",
       "      <th>373</th>\n",
       "      <td>12343</td>\n",
       "      <td>2022-04-08</td>\n",
       "      <td>2022-05-20</td>\n",
       "      <td>REFINANCE</td>\n",
       "    </tr>\n",
       "    <tr>\n",
       "      <th>374</th>\n",
       "      <td>12334</td>\n",
       "      <td>2022-04-12</td>\n",
       "      <td>2022-06-04</td>\n",
       "      <td>DEFAULT</td>\n",
       "    </tr>\n",
       "    <tr>\n",
       "      <th>375</th>\n",
       "      <td>12257</td>\n",
       "      <td>2022-03-20</td>\n",
       "      <td>2022-05-26</td>\n",
       "      <td>REFINANCE</td>\n",
       "    </tr>\n",
       "  </tbody>\n",
       "</table>\n",
       "<p>376 rows × 4 columns</p>\n",
       "</div>"
      ],
      "text/plain": [
       "     Account ID Account Open Date Account Close Date Close Reason\n",
       "0         10040        2020-07-09         2021-01-29    REFINANCE\n",
       "1         10230        2020-09-20         2020-12-10    REFINANCE\n",
       "2         10393        2020-12-10         2021-04-16      DEFAULT\n",
       "3         10331        2020-11-16         2021-05-20    REFINANCE\n",
       "4         10326        2020-11-07         2021-03-15      DEFAULT\n",
       "..          ...               ...                ...          ...\n",
       "371       11923        2022-01-08         2022-04-30    REFINANCE\n",
       "372       11961        2022-01-18         2022-04-20    REFINANCE\n",
       "373       12343        2022-04-08         2022-05-20    REFINANCE\n",
       "374       12334        2022-04-12         2022-06-04      DEFAULT\n",
       "375       12257        2022-03-20         2022-05-26    REFINANCE\n",
       "\n",
       "[376 rows x 4 columns]"
      ]
     },
     "execution_count": 61,
     "metadata": {},
     "output_type": "execute_result"
    }
   ],
   "source": [
    "clawbacks"
   ]
  },
  {
   "cell_type": "code",
   "execution_count": 75,
   "metadata": {},
   "outputs": [
    {
     "data": {
      "text/html": [
       "<div>\n",
       "<style scoped>\n",
       "    .dataframe tbody tr th:only-of-type {\n",
       "        vertical-align: middle;\n",
       "    }\n",
       "\n",
       "    .dataframe tbody tr th {\n",
       "        vertical-align: top;\n",
       "    }\n",
       "\n",
       "    .dataframe thead th {\n",
       "        text-align: right;\n",
       "    }\n",
       "</style>\n",
       "<table border=\"1\" class=\"dataframe\">\n",
       "  <thead>\n",
       "    <tr style=\"text-align: right;\">\n",
       "      <th></th>\n",
       "      <th>Account ID</th>\n",
       "      <th>Account Open Date</th>\n",
       "      <th>Account Close Date</th>\n",
       "      <th>Close Reason</th>\n",
       "      <th>open date + 12 mths</th>\n",
       "    </tr>\n",
       "  </thead>\n",
       "  <tbody>\n",
       "    <tr>\n",
       "      <th>0</th>\n",
       "      <td>10040</td>\n",
       "      <td>2020-07-09</td>\n",
       "      <td>2021-01-29</td>\n",
       "      <td>REFINANCE</td>\n",
       "      <td>2021-07-09</td>\n",
       "    </tr>\n",
       "    <tr>\n",
       "      <th>1</th>\n",
       "      <td>10230</td>\n",
       "      <td>2020-09-20</td>\n",
       "      <td>2020-12-10</td>\n",
       "      <td>REFINANCE</td>\n",
       "      <td>2021-09-20</td>\n",
       "    </tr>\n",
       "    <tr>\n",
       "      <th>2</th>\n",
       "      <td>10393</td>\n",
       "      <td>2020-12-10</td>\n",
       "      <td>2021-04-16</td>\n",
       "      <td>DEFAULT</td>\n",
       "      <td>2021-12-10</td>\n",
       "    </tr>\n",
       "    <tr>\n",
       "      <th>3</th>\n",
       "      <td>10331</td>\n",
       "      <td>2020-11-16</td>\n",
       "      <td>2021-05-20</td>\n",
       "      <td>REFINANCE</td>\n",
       "      <td>2021-11-16</td>\n",
       "    </tr>\n",
       "    <tr>\n",
       "      <th>4</th>\n",
       "      <td>10326</td>\n",
       "      <td>2020-11-07</td>\n",
       "      <td>2021-03-15</td>\n",
       "      <td>DEFAULT</td>\n",
       "      <td>2021-11-07</td>\n",
       "    </tr>\n",
       "    <tr>\n",
       "      <th>...</th>\n",
       "      <td>...</td>\n",
       "      <td>...</td>\n",
       "      <td>...</td>\n",
       "      <td>...</td>\n",
       "      <td>...</td>\n",
       "    </tr>\n",
       "    <tr>\n",
       "      <th>371</th>\n",
       "      <td>11923</td>\n",
       "      <td>2022-01-08</td>\n",
       "      <td>2022-04-30</td>\n",
       "      <td>REFINANCE</td>\n",
       "      <td>2023-01-08</td>\n",
       "    </tr>\n",
       "    <tr>\n",
       "      <th>372</th>\n",
       "      <td>11961</td>\n",
       "      <td>2022-01-18</td>\n",
       "      <td>2022-04-20</td>\n",
       "      <td>REFINANCE</td>\n",
       "      <td>2023-01-18</td>\n",
       "    </tr>\n",
       "    <tr>\n",
       "      <th>373</th>\n",
       "      <td>12343</td>\n",
       "      <td>2022-04-08</td>\n",
       "      <td>2022-05-20</td>\n",
       "      <td>REFINANCE</td>\n",
       "      <td>2023-04-08</td>\n",
       "    </tr>\n",
       "    <tr>\n",
       "      <th>374</th>\n",
       "      <td>12334</td>\n",
       "      <td>2022-04-12</td>\n",
       "      <td>2022-06-04</td>\n",
       "      <td>DEFAULT</td>\n",
       "      <td>2023-04-12</td>\n",
       "    </tr>\n",
       "    <tr>\n",
       "      <th>375</th>\n",
       "      <td>12257</td>\n",
       "      <td>2022-03-20</td>\n",
       "      <td>2022-05-26</td>\n",
       "      <td>REFINANCE</td>\n",
       "      <td>2023-03-20</td>\n",
       "    </tr>\n",
       "  </tbody>\n",
       "</table>\n",
       "<p>376 rows × 5 columns</p>\n",
       "</div>"
      ],
      "text/plain": [
       "     Account ID Account Open Date Account Close Date Close Reason  \\\n",
       "0         10040        2020-07-09         2021-01-29    REFINANCE   \n",
       "1         10230        2020-09-20         2020-12-10    REFINANCE   \n",
       "2         10393        2020-12-10         2021-04-16      DEFAULT   \n",
       "3         10331        2020-11-16         2021-05-20    REFINANCE   \n",
       "4         10326        2020-11-07         2021-03-15      DEFAULT   \n",
       "..          ...               ...                ...          ...   \n",
       "371       11923        2022-01-08         2022-04-30    REFINANCE   \n",
       "372       11961        2022-01-18         2022-04-20    REFINANCE   \n",
       "373       12343        2022-04-08         2022-05-20    REFINANCE   \n",
       "374       12334        2022-04-12         2022-06-04      DEFAULT   \n",
       "375       12257        2022-03-20         2022-05-26    REFINANCE   \n",
       "\n",
       "    open date + 12 mths  \n",
       "0            2021-07-09  \n",
       "1            2021-09-20  \n",
       "2            2021-12-10  \n",
       "3            2021-11-16  \n",
       "4            2021-11-07  \n",
       "..                  ...  \n",
       "371          2023-01-08  \n",
       "372          2023-01-18  \n",
       "373          2023-04-08  \n",
       "374          2023-04-12  \n",
       "375          2023-03-20  \n",
       "\n",
       "[376 rows x 5 columns]"
      ]
     },
     "execution_count": 75,
     "metadata": {},
     "output_type": "execute_result"
    }
   ],
   "source": [
    "clawbacks['open date + 12 mths'] = clawbacks['Account Open Date']+ pd.DateOffset(months=12)\n",
    "clawbacks"
   ]
  },
  {
   "cell_type": "code",
   "execution_count": 80,
   "metadata": {},
   "outputs": [
    {
     "data": {
      "text/plain": [
       "376"
      ]
     },
     "execution_count": 80,
     "metadata": {},
     "output_type": "execute_result"
    }
   ],
   "source": [
    "sum(clawbacks['Account Close Date']<clawbacks['open date + 12 mths'])"
   ]
  },
  {
   "cell_type": "markdown",
   "metadata": {},
   "source": [
    "All are closed within 12 mths"
   ]
  },
  {
   "cell_type": "code",
   "execution_count": 48,
   "metadata": {},
   "outputs": [
    {
     "data": {
      "text/plain": [
       "376"
      ]
     },
     "execution_count": 48,
     "metadata": {},
     "output_type": "execute_result"
    }
   ],
   "source": [
    "clawbacked_bool_array = applications[\"Account ID\"].isin(clawbacks[\"Account ID\"])\n",
    "clawbacked_applications = applications[clawbacked_bool_array]\n",
    "len(clawbacked_applications)"
   ]
  },
  {
   "cell_type": "code",
   "execution_count": 53,
   "metadata": {},
   "outputs": [
    {
     "name": "stdout",
     "output_type": "stream",
     "text": [
      "Total loss from clawbacked: $ 10827669.69\n"
     ]
    }
   ],
   "source": [
    "total_loss_from_clawbacks = round(clawbacked_applications['Loan Amount'].apply(func= lambda x: x * 0.04).sum(),2)\n",
    "print('Total loss from clawbacked: $', total_loss_from_clawbacks)"
   ]
  },
  {
   "cell_type": "code",
   "execution_count": 122,
   "metadata": {},
   "outputs": [
    {
     "name": "stdout",
     "output_type": "stream",
     "text": [
      "Yearly loss from clawbacked: $ 696265.26\n",
      "Yearly loss from clawbacked: $ 6074415.93\n",
      "Yearly loss from clawbacked: $ 4056988.5\n",
      "in total: $ 10827669.69\n"
     ]
    }
   ],
   "source": [
    "#finding yearly clawbacked loss\n",
    "yearly_clawbacked_losses = {}\n",
    "for year in [2020,2021,2022]:\n",
    "    yearly_clawbacks = clawbacks[(clawbacks['Account Close Date']<= pd.to_datetime(f'{year}/12/31'))*(clawbacks['Account Close Date']> pd.to_datetime(f'{year-1}/12/31'))]\n",
    "    yearly_clawbacked_bool_array= applications[\"Account ID\"].isin(yearly_clawbacks[\"Account ID\"])\n",
    "    yearly_clawbacked_applications = applications[yearly_clawbacked_bool_array]\n",
    "    yearly_loss_from_clawbacks = round(yearly_clawbacked_applications['Loan Amount'].apply(func= lambda x: x * 0.04).sum(),2)\n",
    "    yearly_clawbacked_losses[year] = yearly_loss_from_clawbacks\n",
    "    print('Yearly loss from clawbacked: $', yearly_loss_from_clawbacks)\n",
    "print('in total: $', sum(list(yearly_clawbacked_losses.values())))"
   ]
  },
  {
   "cell_type": "markdown",
   "metadata": {},
   "source": [
    "### Revenue - clawback loss:"
   ]
  },
  {
   "cell_type": "code",
   "execution_count": 56,
   "metadata": {},
   "outputs": [
    {
     "name": "stdout",
     "output_type": "stream",
     "text": [
      "Revenue - clawback loss: $ 80249303.75\n"
     ]
    }
   ],
   "source": [
    "print('Revenue - clawback loss: $',total_revenue_from_applications-total_loss_from_clawbacks)"
   ]
  },
  {
   "cell_type": "code",
   "execution_count": 123,
   "metadata": {},
   "outputs": [
    {
     "name": "stdout",
     "output_type": "stream",
     "text": [
      "revenue - loss for year 2020: $ 14330097.92\n",
      "revenue - loss for year 2021: $ 44478230.19\n",
      "revenue - loss for year 2022: $ 21440975.64\n"
     ]
    }
   ],
   "source": [
    "#yearly revenue - clawback loss\n",
    "for year in [2020,2021,2022]:\n",
    "    print(f'revenue - loss for year {year}: $', yearly_revenue[year]-yearly_clawbacked_losses[year])\n"
   ]
  },
  {
   "cell_type": "code",
   "execution_count": 57,
   "metadata": {},
   "outputs": [
    {
     "data": {
      "text/html": [
       "<div>\n",
       "<style scoped>\n",
       "    .dataframe tbody tr th:only-of-type {\n",
       "        vertical-align: middle;\n",
       "    }\n",
       "\n",
       "    .dataframe tbody tr th {\n",
       "        vertical-align: top;\n",
       "    }\n",
       "\n",
       "    .dataframe thead th {\n",
       "        text-align: right;\n",
       "    }\n",
       "</style>\n",
       "<table border=\"1\" class=\"dataframe\">\n",
       "  <thead>\n",
       "    <tr style=\"text-align: right;\">\n",
       "      <th></th>\n",
       "      <th>Application ID</th>\n",
       "      <th>Application Date</th>\n",
       "      <th>Customer ID</th>\n",
       "      <th>Loan Amount</th>\n",
       "      <th>Home Value</th>\n",
       "      <th>Annual Income</th>\n",
       "      <th>Interest Rate (p.a.)</th>\n",
       "      <th>Term (months)</th>\n",
       "      <th>Account ID</th>\n",
       "    </tr>\n",
       "  </thead>\n",
       "  <tbody>\n",
       "    <tr>\n",
       "      <th>894</th>\n",
       "      <td>12945</td>\n",
       "      <td>2021-12-28</td>\n",
       "      <td>42798</td>\n",
       "      <td>858249.00</td>\n",
       "      <td>1042587.0</td>\n",
       "      <td>147648</td>\n",
       "      <td>0.0430</td>\n",
       "      <td>30</td>\n",
       "      <td>12343</td>\n",
       "    </tr>\n",
       "    <tr>\n",
       "      <th>965</th>\n",
       "      <td>12933</td>\n",
       "      <td>2021-12-16</td>\n",
       "      <td>41928</td>\n",
       "      <td>625570.00</td>\n",
       "      <td>822030.0</td>\n",
       "      <td>181213</td>\n",
       "      <td>0.0403</td>\n",
       "      <td>30</td>\n",
       "      <td>12334</td>\n",
       "    </tr>\n",
       "    <tr>\n",
       "      <th>1013</th>\n",
       "      <td>12820</td>\n",
       "      <td>2021-12-11</td>\n",
       "      <td>42173</td>\n",
       "      <td>446745.00</td>\n",
       "      <td>750984.0</td>\n",
       "      <td>217661</td>\n",
       "      <td>0.0425</td>\n",
       "      <td>15</td>\n",
       "      <td>12236</td>\n",
       "    </tr>\n",
       "    <tr>\n",
       "      <th>1021</th>\n",
       "      <td>12844</td>\n",
       "      <td>2021-12-09</td>\n",
       "      <td>41882</td>\n",
       "      <td>447925.00</td>\n",
       "      <td>553500.0</td>\n",
       "      <td>155796</td>\n",
       "      <td>0.0463</td>\n",
       "      <td>15</td>\n",
       "      <td>12257</td>\n",
       "    </tr>\n",
       "    <tr>\n",
       "      <th>1025</th>\n",
       "      <td>12833</td>\n",
       "      <td>2021-12-08</td>\n",
       "      <td>41918</td>\n",
       "      <td>1067268.00</td>\n",
       "      <td>1871842.0</td>\n",
       "      <td>177136</td>\n",
       "      <td>0.0349</td>\n",
       "      <td>15</td>\n",
       "      <td>12246</td>\n",
       "    </tr>\n",
       "    <tr>\n",
       "      <th>...</th>\n",
       "      <td>...</td>\n",
       "      <td>...</td>\n",
       "      <td>...</td>\n",
       "      <td>...</td>\n",
       "      <td>...</td>\n",
       "      <td>...</td>\n",
       "      <td>...</td>\n",
       "      <td>...</td>\n",
       "      <td>...</td>\n",
       "    </tr>\n",
       "    <tr>\n",
       "      <th>3246</th>\n",
       "      <td>10004</td>\n",
       "      <td>2020-06-21</td>\n",
       "      <td>35014</td>\n",
       "      <td>755609.24</td>\n",
       "      <td>869432.0</td>\n",
       "      <td>147527</td>\n",
       "      <td>0.0418</td>\n",
       "      <td>30</td>\n",
       "      <td>10003</td>\n",
       "    </tr>\n",
       "    <tr>\n",
       "      <th>3250</th>\n",
       "      <td>10009</td>\n",
       "      <td>2020-06-19</td>\n",
       "      <td>35191</td>\n",
       "      <td>815792.00</td>\n",
       "      <td>1507232.0</td>\n",
       "      <td>168068</td>\n",
       "      <td>0.0354</td>\n",
       "      <td>25</td>\n",
       "      <td>10007</td>\n",
       "    </tr>\n",
       "    <tr>\n",
       "      <th>3252</th>\n",
       "      <td>10008</td>\n",
       "      <td>2020-06-16</td>\n",
       "      <td>35258</td>\n",
       "      <td>950604.32</td>\n",
       "      <td>1173636.8</td>\n",
       "      <td>84912</td>\n",
       "      <td>0.0368</td>\n",
       "      <td>30</td>\n",
       "      <td>10006</td>\n",
       "    </tr>\n",
       "    <tr>\n",
       "      <th>3257</th>\n",
       "      <td>10010</td>\n",
       "      <td>2020-06-14</td>\n",
       "      <td>35152</td>\n",
       "      <td>1048110.00</td>\n",
       "      <td>1382829.0</td>\n",
       "      <td>122408</td>\n",
       "      <td>0.0394</td>\n",
       "      <td>30</td>\n",
       "      <td>10008</td>\n",
       "    </tr>\n",
       "    <tr>\n",
       "      <th>3258</th>\n",
       "      <td>10005</td>\n",
       "      <td>2020-06-11</td>\n",
       "      <td>35104</td>\n",
       "      <td>510090.02</td>\n",
       "      <td>621030.9</td>\n",
       "      <td>58440</td>\n",
       "      <td>0.0440</td>\n",
       "      <td>40</td>\n",
       "      <td>10004</td>\n",
       "    </tr>\n",
       "  </tbody>\n",
       "</table>\n",
       "<p>376 rows × 9 columns</p>\n",
       "</div>"
      ],
      "text/plain": [
       "      Application ID Application Date  Customer ID  Loan Amount  Home Value  \\\n",
       "894            12945       2021-12-28        42798    858249.00   1042587.0   \n",
       "965            12933       2021-12-16        41928    625570.00    822030.0   \n",
       "1013           12820       2021-12-11        42173    446745.00    750984.0   \n",
       "1021           12844       2021-12-09        41882    447925.00    553500.0   \n",
       "1025           12833       2021-12-08        41918   1067268.00   1871842.0   \n",
       "...              ...              ...          ...          ...         ...   \n",
       "3246           10004       2020-06-21        35014    755609.24    869432.0   \n",
       "3250           10009       2020-06-19        35191    815792.00   1507232.0   \n",
       "3252           10008       2020-06-16        35258    950604.32   1173636.8   \n",
       "3257           10010       2020-06-14        35152   1048110.00   1382829.0   \n",
       "3258           10005       2020-06-11        35104    510090.02    621030.9   \n",
       "\n",
       "      Annual Income  Interest Rate (p.a.)  Term (months)  Account ID  \n",
       "894          147648                0.0430             30       12343  \n",
       "965          181213                0.0403             30       12334  \n",
       "1013         217661                0.0425             15       12236  \n",
       "1021         155796                0.0463             15       12257  \n",
       "1025         177136                0.0349             15       12246  \n",
       "...             ...                   ...            ...         ...  \n",
       "3246         147527                0.0418             30       10003  \n",
       "3250         168068                0.0354             25       10007  \n",
       "3252          84912                0.0368             30       10006  \n",
       "3257         122408                0.0394             30       10008  \n",
       "3258          58440                0.0440             40       10004  \n",
       "\n",
       "[376 rows x 9 columns]"
      ]
     },
     "execution_count": 57,
     "metadata": {},
     "output_type": "execute_result"
    }
   ],
   "source": [
    "clawbacked_applications"
   ]
  },
  {
   "cell_type": "code",
   "execution_count": null,
   "metadata": {},
   "outputs": [],
   "source": []
  }
 ],
 "metadata": {
  "kernelspec": {
   "display_name": "Python 3",
   "language": "python",
   "name": "python3"
  },
  "language_info": {
   "codemirror_mode": {
    "name": "ipython",
    "version": 3
   },
   "file_extension": ".py",
   "mimetype": "text/x-python",
   "name": "python",
   "nbconvert_exporter": "python",
   "pygments_lexer": "ipython3",
   "version": "3.12.2"
  }
 },
 "nbformat": 4,
 "nbformat_minor": 2
}
